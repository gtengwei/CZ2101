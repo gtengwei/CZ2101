{
 "cells": [
  {
   "cell_type": "code",
   "execution_count": 3,
   "id": "df4c647a",
   "metadata": {},
   "outputs": [],
   "source": [
    "import numpy as np\n",
    "import pandas as pd\n",
    "import seaborn as sb"
   ]
  },
  {
   "cell_type": "code",
   "execution_count": 4,
   "id": "bdbb1e01",
   "metadata": {},
   "outputs": [
    {
     "data": {
      "text/html": [
       "<div>\n",
       "<style scoped>\n",
       "    .dataframe tbody tr th:only-of-type {\n",
       "        vertical-align: middle;\n",
       "    }\n",
       "\n",
       "    .dataframe tbody tr th {\n",
       "        vertical-align: top;\n",
       "    }\n",
       "\n",
       "    .dataframe thead th {\n",
       "        text-align: right;\n",
       "    }\n",
       "</style>\n",
       "<table border=\"1\" class=\"dataframe\">\n",
       "  <thead>\n",
       "    <tr style=\"text-align: right;\">\n",
       "      <th></th>\n",
       "      <th>type</th>\n",
       "      <th>v</th>\n",
       "      <th>e</th>\n",
       "      <th>time</th>\n",
       "    </tr>\n",
       "  </thead>\n",
       "  <tbody>\n",
       "    <tr>\n",
       "      <th>0</th>\n",
       "      <td>matrix</td>\n",
       "      <td>2</td>\n",
       "      <td>1</td>\n",
       "      <td>22970.1</td>\n",
       "    </tr>\n",
       "    <tr>\n",
       "      <th>1</th>\n",
       "      <td>list</td>\n",
       "      <td>2</td>\n",
       "      <td>1</td>\n",
       "      <td>120164.5</td>\n",
       "    </tr>\n",
       "    <tr>\n",
       "      <th>2</th>\n",
       "      <td>matrix</td>\n",
       "      <td>2</td>\n",
       "      <td>2</td>\n",
       "      <td>25358.6</td>\n",
       "    </tr>\n",
       "    <tr>\n",
       "      <th>3</th>\n",
       "      <td>list</td>\n",
       "      <td>2</td>\n",
       "      <td>2</td>\n",
       "      <td>33338.0</td>\n",
       "    </tr>\n",
       "    <tr>\n",
       "      <th>4</th>\n",
       "      <td>matrix</td>\n",
       "      <td>3</td>\n",
       "      <td>1</td>\n",
       "      <td>21216.9</td>\n",
       "    </tr>\n",
       "    <tr>\n",
       "      <th>...</th>\n",
       "      <td>...</td>\n",
       "      <td>...</td>\n",
       "      <td>...</td>\n",
       "      <td>...</td>\n",
       "    </tr>\n",
       "    <tr>\n",
       "      <th>218955</th>\n",
       "      <td>list</td>\n",
       "      <td>69</td>\n",
       "      <td>4690</td>\n",
       "      <td>59452.9</td>\n",
       "    </tr>\n",
       "    <tr>\n",
       "      <th>218956</th>\n",
       "      <td>matrix</td>\n",
       "      <td>69</td>\n",
       "      <td>4691</td>\n",
       "      <td>36706.5</td>\n",
       "    </tr>\n",
       "    <tr>\n",
       "      <th>218957</th>\n",
       "      <td>list</td>\n",
       "      <td>69</td>\n",
       "      <td>4691</td>\n",
       "      <td>57810.5</td>\n",
       "    </tr>\n",
       "    <tr>\n",
       "      <th>218958</th>\n",
       "      <td>matrix</td>\n",
       "      <td>69</td>\n",
       "      <td>4692</td>\n",
       "      <td>36623.5</td>\n",
       "    </tr>\n",
       "    <tr>\n",
       "      <th>218959</th>\n",
       "      <td>list</td>\n",
       "      <td>69</td>\n",
       "      <td>4692</td>\n",
       "      <td>58107.4</td>\n",
       "    </tr>\n",
       "  </tbody>\n",
       "</table>\n",
       "<p>218960 rows × 4 columns</p>\n",
       "</div>"
      ],
      "text/plain": [
       "          type   v     e      time\n",
       "0       matrix   2     1   22970.1\n",
       "1         list   2     1  120164.5\n",
       "2       matrix   2     2   25358.6\n",
       "3         list   2     2   33338.0\n",
       "4       matrix   3     1   21216.9\n",
       "...        ...  ..   ...       ...\n",
       "218955    list  69  4690   59452.9\n",
       "218956  matrix  69  4691   36706.5\n",
       "218957    list  69  4691   57810.5\n",
       "218958  matrix  69  4692   36623.5\n",
       "218959    list  69  4692   58107.4\n",
       "\n",
       "[218960 rows x 4 columns]"
      ]
     },
     "execution_count": 4,
     "metadata": {},
     "output_type": "execute_result"
    }
   ],
   "source": [
    "# Read results\n",
    "results = pd.read_csv(\"results.csv\")\n",
    "results"
   ]
  },
  {
   "cell_type": "code",
   "execution_count": 6,
   "id": "58dcd0b0",
   "metadata": {},
   "outputs": [
    {
     "data": {
      "text/plain": [
       "<AxesSubplot:xlabel='e', ylabel='time'>"
      ]
     },
     "execution_count": 6,
     "metadata": {},
     "output_type": "execute_result"
    },
    {
     "data": {
      "image/png": "[encoded data removed]",
      "text/plain": [
       "<Figure size 432x288 with 1 Axes>"
      ]
     },
     "metadata": {
      "needs_background": "light"
     },
     "output_type": "display_data"
    }
   ],
   "source": [
    "sb.lineplot(data=results[results.v == 69], x=\"e\", y=\"time\", hue=\"type\")"
   ]
  },
  {
   "cell_type": "code",
   "execution_count": null,
   "id": "b2c530a7",
   "metadata": {},
   "outputs": [],
   "source": []
  }
 ],
 "metadata": {
  "kernelspec": {
   "display_name": "Python 3 (ipykernel)",
   "language": "python",
   "name": "python3"
  },
  "language_info": {
   "codemirror_mode": {
    "name": "ipython",
    "version": 3
   },
   "file_extension": ".py",
   "mimetype": "text/x-python",
   "name": "python",
   "nbconvert_exporter": "python",
   "pygments_lexer": "ipython3",
   "version": "3.9.6"
  }
 },
 "nbformat": 4,
 "nbformat_minor": 5
}
