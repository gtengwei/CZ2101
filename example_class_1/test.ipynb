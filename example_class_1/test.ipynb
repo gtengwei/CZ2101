{
 "cells": [
  {
   "cell_type": "code",
   "execution_count": 201,
   "id": "bdc7e5ed",
   "metadata": {},
   "outputs": [],
   "source": [
    "import numpy as np\n",
    "import pandas as pd\n",
    "import seaborn as sb"
   ]
  },
  {
   "cell_type": "code",
   "execution_count": 202,
   "id": "e0aeb006",
   "metadata": {},
   "outputs": [
    {
     "data": {
      "text/html": [
       "<div>\n",
       "<style scoped>\n",
       "    .dataframe tbody tr th:only-of-type {\n",
       "        vertical-align: middle;\n",
       "    }\n",
       "\n",
       "    .dataframe tbody tr th {\n",
       "        vertical-align: top;\n",
       "    }\n",
       "\n",
       "    .dataframe thead th {\n",
       "        text-align: right;\n",
       "    }\n",
       "</style>\n",
       "<table border=\"1\" class=\"dataframe\">\n",
       "  <thead>\n",
       "    <tr style=\"text-align: right;\">\n",
       "      <th></th>\n",
       "      <th>size</th>\n",
       "      <th>sort_type</th>\n",
       "      <th>input_type</th>\n",
       "      <th>micro_time</th>\n",
       "      <th>comparisons</th>\n",
       "    </tr>\n",
       "  </thead>\n",
       "  <tbody>\n",
       "    <tr>\n",
       "      <th>0</th>\n",
       "      <td>0</td>\n",
       "      <td>insertion</td>\n",
       "      <td>ascending</td>\n",
       "      <td>0.3254</td>\n",
       "      <td>0.00</td>\n",
       "    </tr>\n",
       "    <tr>\n",
       "      <th>1</th>\n",
       "      <td>0</td>\n",
       "      <td>merge</td>\n",
       "      <td>ascending</td>\n",
       "      <td>0.3034</td>\n",
       "      <td>0.00</td>\n",
       "    </tr>\n",
       "    <tr>\n",
       "      <th>2</th>\n",
       "      <td>0</td>\n",
       "      <td>hybrid</td>\n",
       "      <td>ascending</td>\n",
       "      <td>0.3122</td>\n",
       "      <td>0.00</td>\n",
       "    </tr>\n",
       "    <tr>\n",
       "      <th>3</th>\n",
       "      <td>0</td>\n",
       "      <td>insertion</td>\n",
       "      <td>descending</td>\n",
       "      <td>0.3294</td>\n",
       "      <td>0.00</td>\n",
       "    </tr>\n",
       "    <tr>\n",
       "      <th>4</th>\n",
       "      <td>0</td>\n",
       "      <td>merge</td>\n",
       "      <td>descending</td>\n",
       "      <td>0.3086</td>\n",
       "      <td>0.00</td>\n",
       "    </tr>\n",
       "    <tr>\n",
       "      <th>...</th>\n",
       "      <td>...</td>\n",
       "      <td>...</td>\n",
       "      <td>...</td>\n",
       "      <td>...</td>\n",
       "      <td>...</td>\n",
       "    </tr>\n",
       "    <tr>\n",
       "      <th>2695</th>\n",
       "      <td>299</td>\n",
       "      <td>merge</td>\n",
       "      <td>descending</td>\n",
       "      <td>18.3968</td>\n",
       "      <td>1175.00</td>\n",
       "    </tr>\n",
       "    <tr>\n",
       "      <th>2696</th>\n",
       "      <td>299</td>\n",
       "      <td>hybrid</td>\n",
       "      <td>descending</td>\n",
       "      <td>46.5638</td>\n",
       "      <td>22647.00</td>\n",
       "    </tr>\n",
       "    <tr>\n",
       "      <th>2697</th>\n",
       "      <td>299</td>\n",
       "      <td>insertion</td>\n",
       "      <td>random</td>\n",
       "      <td>44.0254</td>\n",
       "      <td>22518.10</td>\n",
       "    </tr>\n",
       "    <tr>\n",
       "      <th>2698</th>\n",
       "      <td>299</td>\n",
       "      <td>merge</td>\n",
       "      <td>random</td>\n",
       "      <td>27.6632</td>\n",
       "      <td>2088.56</td>\n",
       "    </tr>\n",
       "    <tr>\n",
       "      <th>2699</th>\n",
       "      <td>299</td>\n",
       "      <td>hybrid</td>\n",
       "      <td>random</td>\n",
       "      <td>27.4442</td>\n",
       "      <td>11683.90</td>\n",
       "    </tr>\n",
       "  </tbody>\n",
       "</table>\n",
       "<p>2700 rows × 5 columns</p>\n",
       "</div>"
      ],
      "text/plain": [
       "      size  sort_type  input_type  micro_time  comparisons\n",
       "0        0  insertion   ascending      0.3254         0.00\n",
       "1        0      merge   ascending      0.3034         0.00\n",
       "2        0     hybrid   ascending      0.3122         0.00\n",
       "3        0  insertion  descending      0.3294         0.00\n",
       "4        0      merge  descending      0.3086         0.00\n",
       "...    ...        ...         ...         ...          ...\n",
       "2695   299      merge  descending     18.3968      1175.00\n",
       "2696   299     hybrid  descending     46.5638     22647.00\n",
       "2697   299  insertion      random     44.0254     22518.10\n",
       "2698   299      merge      random     27.6632      2088.56\n",
       "2699   299     hybrid      random     27.4442     11683.90\n",
       "\n",
       "[2700 rows x 5 columns]"
      ]
     },
     "execution_count": 202,
     "metadata": {},
     "output_type": "execute_result"
    }
   ],
   "source": [
    "# Read data from results.csv\n",
    "results = pd.read_csv(\"results.csv\")\n",
    "results"
   ]
  },
  {
   "cell_type": "code",
   "execution_count": 203,
   "id": "2a71d237",
   "metadata": {},
   "outputs": [
    {
     "data": {
      "text/html": [
       "<div>\n",
       "<style scoped>\n",
       "    .dataframe tbody tr th:only-of-type {\n",
       "        vertical-align: middle;\n",
       "    }\n",
       "\n",
       "    .dataframe tbody tr th {\n",
       "        vertical-align: top;\n",
       "    }\n",
       "\n",
       "    .dataframe thead th {\n",
       "        text-align: right;\n",
       "    }\n",
       "</style>\n",
       "<table border=\"1\" class=\"dataframe\">\n",
       "  <thead>\n",
       "    <tr style=\"text-align: right;\">\n",
       "      <th></th>\n",
       "      <th>size</th>\n",
       "      <th>sort_type</th>\n",
       "      <th>input_type</th>\n",
       "      <th>micro_time</th>\n",
       "      <th>comparisons</th>\n",
       "    </tr>\n",
       "  </thead>\n",
       "  <tbody>\n",
       "    <tr>\n",
       "      <th>0</th>\n",
       "      <td>0</td>\n",
       "      <td>insertion</td>\n",
       "      <td>ascending</td>\n",
       "      <td>0.3254</td>\n",
       "      <td>0.00</td>\n",
       "    </tr>\n",
       "    <tr>\n",
       "      <th>1</th>\n",
       "      <td>0</td>\n",
       "      <td>merge</td>\n",
       "      <td>ascending</td>\n",
       "      <td>0.3034</td>\n",
       "      <td>0.00</td>\n",
       "    </tr>\n",
       "    <tr>\n",
       "      <th>3</th>\n",
       "      <td>0</td>\n",
       "      <td>insertion</td>\n",
       "      <td>descending</td>\n",
       "      <td>0.3294</td>\n",
       "      <td>0.00</td>\n",
       "    </tr>\n",
       "    <tr>\n",
       "      <th>4</th>\n",
       "      <td>0</td>\n",
       "      <td>merge</td>\n",
       "      <td>descending</td>\n",
       "      <td>0.3086</td>\n",
       "      <td>0.00</td>\n",
       "    </tr>\n",
       "    <tr>\n",
       "      <th>6</th>\n",
       "      <td>0</td>\n",
       "      <td>insertion</td>\n",
       "      <td>random</td>\n",
       "      <td>0.3296</td>\n",
       "      <td>0.00</td>\n",
       "    </tr>\n",
       "    <tr>\n",
       "      <th>...</th>\n",
       "      <td>...</td>\n",
       "      <td>...</td>\n",
       "      <td>...</td>\n",
       "      <td>...</td>\n",
       "      <td>...</td>\n",
       "    </tr>\n",
       "    <tr>\n",
       "      <th>2692</th>\n",
       "      <td>299</td>\n",
       "      <td>merge</td>\n",
       "      <td>ascending</td>\n",
       "      <td>18.1560</td>\n",
       "      <td>1303.00</td>\n",
       "    </tr>\n",
       "    <tr>\n",
       "      <th>2694</th>\n",
       "      <td>299</td>\n",
       "      <td>insertion</td>\n",
       "      <td>descending</td>\n",
       "      <td>82.7502</td>\n",
       "      <td>44849.00</td>\n",
       "    </tr>\n",
       "    <tr>\n",
       "      <th>2695</th>\n",
       "      <td>299</td>\n",
       "      <td>merge</td>\n",
       "      <td>descending</td>\n",
       "      <td>18.3968</td>\n",
       "      <td>1175.00</td>\n",
       "    </tr>\n",
       "    <tr>\n",
       "      <th>2697</th>\n",
       "      <td>299</td>\n",
       "      <td>insertion</td>\n",
       "      <td>random</td>\n",
       "      <td>44.0254</td>\n",
       "      <td>22518.10</td>\n",
       "    </tr>\n",
       "    <tr>\n",
       "      <th>2698</th>\n",
       "      <td>299</td>\n",
       "      <td>merge</td>\n",
       "      <td>random</td>\n",
       "      <td>27.6632</td>\n",
       "      <td>2088.56</td>\n",
       "    </tr>\n",
       "  </tbody>\n",
       "</table>\n",
       "<p>1800 rows × 5 columns</p>\n",
       "</div>"
      ],
      "text/plain": [
       "      size  sort_type  input_type  micro_time  comparisons\n",
       "0        0  insertion   ascending      0.3254         0.00\n",
       "1        0      merge   ascending      0.3034         0.00\n",
       "3        0  insertion  descending      0.3294         0.00\n",
       "4        0      merge  descending      0.3086         0.00\n",
       "6        0  insertion      random      0.3296         0.00\n",
       "...    ...        ...         ...         ...          ...\n",
       "2692   299      merge   ascending     18.1560      1303.00\n",
       "2694   299  insertion  descending     82.7502     44849.00\n",
       "2695   299      merge  descending     18.3968      1175.00\n",
       "2697   299  insertion      random     44.0254     22518.10\n",
       "2698   299      merge      random     27.6632      2088.56\n",
       "\n",
       "[1800 rows x 5 columns]"
      ]
     },
     "execution_count": 203,
     "metadata": {},
     "output_type": "execute_result"
    }
   ],
   "source": [
    "# Get data without hybrid algo\n",
    "results = results[results.sort_type != \"hybrid\"]\n",
    "results"
   ]
  },
  {
   "cell_type": "code",
   "execution_count": 204,
   "id": "6c88ce43",
   "metadata": {},
   "outputs": [
    {
     "data": {
      "text/plain": [
       "<AxesSubplot:xlabel='size', ylabel='micro_time'>"
      ]
     },
     "execution_count": 204,
     "metadata": {},
     "output_type": "execute_result"
    },
    {
     "data": {
      "image/png": "[encoded data removed]",
      "text/plain": [
       "<Figure size 432x288 with 1 Axes>"
      ]
     },
     "metadata": {
      "needs_background": "light"
     },
     "output_type": "display_data"
    }
   ],
   "source": [
    "sb.lineplot(data=results[results.input_type == \"descending\"][:400], x=\"size\", y=\"micro_time\", hue=\"sort_type\")"
   ]
  },
  {
   "cell_type": "code",
   "execution_count": 205,
   "id": "9b6d1906",
   "metadata": {},
   "outputs": [
    {
     "data": {
      "text/plain": [
       "<AxesSubplot:xlabel='size', ylabel='micro_time'>"
      ]
     },
     "execution_count": 205,
     "metadata": {},
     "output_type": "execute_result"
    },
    {
     "data": {
      "image/png": "[encoded data removed]",
      "text/plain": [
       "<Figure size 432x288 with 1 Axes>"
      ]
     },
     "metadata": {
      "needs_background": "light"
     },
     "output_type": "display_data"
    }
   ],
   "source": [
    "sb.lineplot(data=results[results.input_type == \"random\"][:400], x=\"size\", y=\"micro_time\", hue=\"sort_type\")"
   ]
  },
  {
   "cell_type": "code",
   "execution_count": null,
   "id": "f606154d",
   "metadata": {},
   "outputs": [],
   "source": []
  }
 ],
 "metadata": {
  "kernelspec": {
   "display_name": "Python 3 (ipykernel)",
   "language": "python",
   "name": "python3"
  },
  "language_info": {
   "codemirror_mode": {
    "name": "ipython",
    "version": 3
   },
   "file_extension": ".py",
   "mimetype": "text/x-python",
   "name": "python",
   "nbconvert_exporter": "python",
   "pygments_lexer": "ipython3",
   "version": "3.9.6"
  }
 },
 "nbformat": 4,
 "nbformat_minor": 5
}
