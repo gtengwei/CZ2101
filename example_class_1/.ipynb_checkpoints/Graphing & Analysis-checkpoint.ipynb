{
 "cells": [
  {
   "cell_type": "code",
   "execution_count": 25,
   "metadata": {},
   "outputs": [],
   "source": [
    "from matplotlib import pyplot as plt\n",
    "import numpy as np\n",
    "import pandas as pd\n",
    "import seaborn as sb\n",
    "import math\n",
    "from shapely.geometry import LineString"
   ]
  },
  {
   "cell_type": "code",
   "execution_count": 70,
   "metadata": {},
   "outputs": [],
   "source": [
    "df = pd.read_csv('results.csv')"
   ]
  },
  {
   "cell_type": "code",
   "execution_count": 58,
   "metadata": {},
   "outputs": [
    {
     "data": {
      "text/html": [
       "<div>\n",
       "<style scoped>\n",
       "    .dataframe tbody tr th:only-of-type {\n",
       "        vertical-align: middle;\n",
       "    }\n",
       "\n",
       "    .dataframe tbody tr th {\n",
       "        vertical-align: top;\n",
       "    }\n",
       "\n",
       "    .dataframe thead th {\n",
       "        text-align: right;\n",
       "    }\n",
       "</style>\n",
       "<table border=\"1\" class=\"dataframe\">\n",
       "  <thead>\n",
       "    <tr style=\"text-align: right;\">\n",
       "      <th></th>\n",
       "      <th>comparisons</th>\n",
       "      <th>i_comparisons</th>\n",
       "    </tr>\n",
       "    <tr>\n",
       "      <th>size</th>\n",
       "      <th></th>\n",
       "      <th></th>\n",
       "    </tr>\n",
       "  </thead>\n",
       "  <tbody>\n",
       "    <tr>\n",
       "      <th>0</th>\n",
       "      <td>0.0</td>\n",
       "      <td>0.0</td>\n",
       "    </tr>\n",
       "    <tr>\n",
       "      <th>1</th>\n",
       "      <td>0.0</td>\n",
       "      <td>0.0</td>\n",
       "    </tr>\n",
       "    <tr>\n",
       "      <th>2</th>\n",
       "      <td>1.0</td>\n",
       "      <td>1.0</td>\n",
       "    </tr>\n",
       "    <tr>\n",
       "      <th>3</th>\n",
       "      <td>3.0</td>\n",
       "      <td>2.0</td>\n",
       "    </tr>\n",
       "    <tr>\n",
       "      <th>4</th>\n",
       "      <td>4.0</td>\n",
       "      <td>3.0</td>\n",
       "    </tr>\n",
       "    <tr>\n",
       "      <th>...</th>\n",
       "      <td>...</td>\n",
       "      <td>...</td>\n",
       "    </tr>\n",
       "    <tr>\n",
       "      <th>495</th>\n",
       "      <td>2254.0</td>\n",
       "      <td>494.0</td>\n",
       "    </tr>\n",
       "    <tr>\n",
       "      <th>496</th>\n",
       "      <td>2256.0</td>\n",
       "      <td>495.0</td>\n",
       "    </tr>\n",
       "    <tr>\n",
       "      <th>497</th>\n",
       "      <td>2261.0</td>\n",
       "      <td>496.0</td>\n",
       "    </tr>\n",
       "    <tr>\n",
       "      <th>498</th>\n",
       "      <td>2265.0</td>\n",
       "      <td>497.0</td>\n",
       "    </tr>\n",
       "    <tr>\n",
       "      <th>499</th>\n",
       "      <td>2269.0</td>\n",
       "      <td>498.0</td>\n",
       "    </tr>\n",
       "  </tbody>\n",
       "</table>\n",
       "<p>500 rows × 2 columns</p>\n",
       "</div>"
      ],
      "text/plain": [
       "      comparisons  i_comparisons\n",
       "size                            \n",
       "0             0.0            0.0\n",
       "1             0.0            0.0\n",
       "2             1.0            1.0\n",
       "3             3.0            2.0\n",
       "4             4.0            3.0\n",
       "...           ...            ...\n",
       "495        2254.0          494.0\n",
       "496        2256.0          495.0\n",
       "497        2261.0          496.0\n",
       "498        2265.0          497.0\n",
       "499        2269.0          498.0\n",
       "\n",
       "[500 rows x 2 columns]"
      ]
     },
     "execution_count": 58,
     "metadata": {},
     "output_type": "execute_result"
    }
   ],
   "source": [
    "asc = df[df['input_type']=='ascending']\n",
    "asc = asc[['sort_type','size','comparisons','input_type']]\n",
    "\n",
    "m_asc = asc[asc['sort_type']=='merge']\n",
    "i_asc = asc[asc['sort_type']=='insertion']\n",
    "m_asc = m_asc[['size','comparisons']]\n",
    "m_asc.set_index('size',inplace=True)\n",
    "i_asc = i_asc[['size','comparisons']]\n",
    "i_asc.set_index('size',inplace=True)\n",
    "\n",
    "m_asc['i_comparisons'] = i_asc.comparisons\n",
    "\n",
    "m_asc.tail(500)\n",
    "\n",
    "#comparisons is for merge comparisons. i for insertion"
   ]
  },
  {
   "cell_type": "code",
   "execution_count": 59,
   "metadata": {},
   "outputs": [
    {
     "name": "stdout",
     "output_type": "stream",
     "text": [
      "[0, 1, 2]\n"
     ]
    }
   ],
   "source": [
    "#calculate the differences of the y-coords. Look for points where they meet (diff==0) or\n",
    "#where there is sign change\n",
    "\n",
    "diff = m_asc.comparisons - m_asc.i_comparisons\n",
    "a_intersect = []\n",
    "for i in range(len(m_asc)):\n",
    "    if i == 499:\n",
    "        break\n",
    "    if diff[i] == 0 or diff[i]*diff[i+1]<0:\n",
    "        a_intersect.append(i)\n",
    "print(a_intersect)\n"
   ]
  },
  {
   "cell_type": "code",
   "execution_count": 85,
   "metadata": {},
   "outputs": [
    {
     "data": {
      "text/plain": [
       "<matplotlib.axes._subplots.AxesSubplot at 0x1e233df1888>"
      ]
     },
     "execution_count": 85,
     "metadata": {},
     "output_type": "execute_result"
    },
    {
     "data": {
      "image/png": "[encoded data removed]",
      "text/plain": [
       "<Figure size 936x432 with 2 Axes>"
      ]
     },
     "metadata": {
      "needs_background": "light"
     },
     "output_type": "display_data"
    }
   ],
   "source": [
    "fig, axes = plt.subplots(ncols = 2)\n",
    "\n",
    "asc = m_asc.head(5)\n",
    "asc.plot(ax=axes[0],figsize=(13,6))\n",
    "m_asc.plot(ax=axes[1],figsize=(13,6))"
   ]
  },
  {
   "cell_type": "code",
   "execution_count": 72,
   "metadata": {},
   "outputs": [
    {
     "data": {
      "text/html": [
       "<div>\n",
       "<style scoped>\n",
       "    .dataframe tbody tr th:only-of-type {\n",
       "        vertical-align: middle;\n",
       "    }\n",
       "\n",
       "    .dataframe tbody tr th {\n",
       "        vertical-align: top;\n",
       "    }\n",
       "\n",
       "    .dataframe thead th {\n",
       "        text-align: right;\n",
       "    }\n",
       "</style>\n",
       "<table border=\"1\" class=\"dataframe\">\n",
       "  <thead>\n",
       "    <tr style=\"text-align: right;\">\n",
       "      <th></th>\n",
       "      <th>comparisons</th>\n",
       "      <th>i_comparisons</th>\n",
       "    </tr>\n",
       "    <tr>\n",
       "      <th>size</th>\n",
       "      <th></th>\n",
       "      <th></th>\n",
       "    </tr>\n",
       "  </thead>\n",
       "  <tbody>\n",
       "    <tr>\n",
       "      <th>0</th>\n",
       "      <td>0.0</td>\n",
       "      <td>0.0</td>\n",
       "    </tr>\n",
       "    <tr>\n",
       "      <th>1</th>\n",
       "      <td>0.0</td>\n",
       "      <td>0.0</td>\n",
       "    </tr>\n",
       "    <tr>\n",
       "      <th>2</th>\n",
       "      <td>1.0</td>\n",
       "      <td>2.0</td>\n",
       "    </tr>\n",
       "    <tr>\n",
       "      <th>3</th>\n",
       "      <td>2.0</td>\n",
       "      <td>5.0</td>\n",
       "    </tr>\n",
       "    <tr>\n",
       "      <th>4</th>\n",
       "      <td>4.0</td>\n",
       "      <td>9.0</td>\n",
       "    </tr>\n",
       "    <tr>\n",
       "      <th>...</th>\n",
       "      <td>...</td>\n",
       "      <td>...</td>\n",
       "    </tr>\n",
       "    <tr>\n",
       "      <th>495</th>\n",
       "      <td>2184.0</td>\n",
       "      <td>122759.0</td>\n",
       "    </tr>\n",
       "    <tr>\n",
       "      <th>496</th>\n",
       "      <td>2192.0</td>\n",
       "      <td>123255.0</td>\n",
       "    </tr>\n",
       "    <tr>\n",
       "      <th>497</th>\n",
       "      <td>2197.0</td>\n",
       "      <td>123752.0</td>\n",
       "    </tr>\n",
       "    <tr>\n",
       "      <th>498</th>\n",
       "      <td>2203.0</td>\n",
       "      <td>124250.0</td>\n",
       "    </tr>\n",
       "    <tr>\n",
       "      <th>499</th>\n",
       "      <td>2209.0</td>\n",
       "      <td>124749.0</td>\n",
       "    </tr>\n",
       "  </tbody>\n",
       "</table>\n",
       "<p>500 rows × 2 columns</p>\n",
       "</div>"
      ],
      "text/plain": [
       "      comparisons  i_comparisons\n",
       "size                            \n",
       "0             0.0            0.0\n",
       "1             0.0            0.0\n",
       "2             1.0            2.0\n",
       "3             2.0            5.0\n",
       "4             4.0            9.0\n",
       "...           ...            ...\n",
       "495        2184.0       122759.0\n",
       "496        2192.0       123255.0\n",
       "497        2197.0       123752.0\n",
       "498        2203.0       124250.0\n",
       "499        2209.0       124749.0\n",
       "\n",
       "[500 rows x 2 columns]"
      ]
     },
     "execution_count": 72,
     "metadata": {},
     "output_type": "execute_result"
    }
   ],
   "source": [
    "dsc = df[df['input_type']=='descending']\n",
    "dsc = dsc[['sort_type','size','comparisons','input_type']]\n",
    "\n",
    "m_dsc = dsc[dsc['sort_type']=='merge']\n",
    "i_dsc = dsc[dsc['sort_type']=='insertion']\n",
    "m_dsc = m_dsc[['size','comparisons']]\n",
    "m_dsc.set_index('size',inplace=True)\n",
    "i_dsc = i_dsc[['size','comparisons']]\n",
    "i_dsc.set_index('size',inplace=True)\n",
    "\n",
    "m_dsc['i_comparisons'] = i_dsc.comparisons\n",
    "m_dsc.tail(500)\n",
    "\n",
    "#comparisons is for merge comparisons. i for insertion"
   ]
  },
  {
   "cell_type": "code",
   "execution_count": 74,
   "metadata": {},
   "outputs": [
    {
     "name": "stdout",
     "output_type": "stream",
     "text": [
      "[0, 1]\n"
     ]
    }
   ],
   "source": [
    "#calculate the differences of the y-coords. Look for points where they meet (diff==0) or\n",
    "#where there is sign change\n",
    "\n",
    "diff = m_dsc.comparisons - m_dsc.i_comparisons\n",
    "d_intersect = []\n",
    "for i in range(len(m_dsc)):\n",
    "    if i == 499:\n",
    "        break\n",
    "    if diff[i] == 0 or diff[i]*diff[i+1]<0:\n",
    "        d_intersect.append(i)\n",
    "print(d_intersect)"
   ]
  },
  {
   "cell_type": "code",
   "execution_count": 84,
   "metadata": {},
   "outputs": [
    {
     "data": {
      "text/plain": [
       "<matplotlib.axes._subplots.AxesSubplot at 0x1e2333f2e08>"
      ]
     },
     "execution_count": 84,
     "metadata": {},
     "output_type": "execute_result"
    },
    {
     "data": {
      "image/png": "[encoded data removed]",
      "text/plain": [
       "<Figure size 936x432 with 2 Axes>"
      ]
     },
     "metadata": {
      "needs_background": "light"
     },
     "output_type": "display_data"
    }
   ],
   "source": [
    "fig, axes = plt.subplots(ncols = 2)\n",
    "\n",
    "dsc = m_dsc.head(5)\n",
    "dsc.plot(ax=axes[0],figsize=(13,6))\n",
    "m_dsc.plot(ax=axes[1],figsize=(13,6))"
   ]
  },
  {
   "cell_type": "code",
   "execution_count": 86,
   "metadata": {},
   "outputs": [
    {
     "data": {
      "text/html": [
       "<div>\n",
       "<style scoped>\n",
       "    .dataframe tbody tr th:only-of-type {\n",
       "        vertical-align: middle;\n",
       "    }\n",
       "\n",
       "    .dataframe tbody tr th {\n",
       "        vertical-align: top;\n",
       "    }\n",
       "\n",
       "    .dataframe thead th {\n",
       "        text-align: right;\n",
       "    }\n",
       "</style>\n",
       "<table border=\"1\" class=\"dataframe\">\n",
       "  <thead>\n",
       "    <tr style=\"text-align: right;\">\n",
       "      <th></th>\n",
       "      <th>comparisons</th>\n",
       "      <th>i_comparisons</th>\n",
       "    </tr>\n",
       "    <tr>\n",
       "      <th>size</th>\n",
       "      <th></th>\n",
       "      <th></th>\n",
       "    </tr>\n",
       "  </thead>\n",
       "  <tbody>\n",
       "    <tr>\n",
       "      <th>0</th>\n",
       "      <td>0.00</td>\n",
       "      <td>0.0</td>\n",
       "    </tr>\n",
       "    <tr>\n",
       "      <th>1</th>\n",
       "      <td>0.00</td>\n",
       "      <td>0.0</td>\n",
       "    </tr>\n",
       "    <tr>\n",
       "      <th>2</th>\n",
       "      <td>1.00</td>\n",
       "      <td>2.0</td>\n",
       "    </tr>\n",
       "    <tr>\n",
       "      <th>3</th>\n",
       "      <td>2.72</td>\n",
       "      <td>5.0</td>\n",
       "    </tr>\n",
       "    <tr>\n",
       "      <th>4</th>\n",
       "      <td>4.64</td>\n",
       "      <td>9.0</td>\n",
       "    </tr>\n",
       "    <tr>\n",
       "      <th>...</th>\n",
       "      <td>...</td>\n",
       "      <td>...</td>\n",
       "    </tr>\n",
       "    <tr>\n",
       "      <th>495</th>\n",
       "      <td>3808.24</td>\n",
       "      <td>122759.0</td>\n",
       "    </tr>\n",
       "    <tr>\n",
       "      <th>496</th>\n",
       "      <td>3820.06</td>\n",
       "      <td>123255.0</td>\n",
       "    </tr>\n",
       "    <tr>\n",
       "      <th>497</th>\n",
       "      <td>3831.26</td>\n",
       "      <td>123752.0</td>\n",
       "    </tr>\n",
       "    <tr>\n",
       "      <th>498</th>\n",
       "      <td>3839.94</td>\n",
       "      <td>124250.0</td>\n",
       "    </tr>\n",
       "    <tr>\n",
       "      <th>499</th>\n",
       "      <td>3844.96</td>\n",
       "      <td>124749.0</td>\n",
       "    </tr>\n",
       "  </tbody>\n",
       "</table>\n",
       "<p>500 rows × 2 columns</p>\n",
       "</div>"
      ],
      "text/plain": [
       "      comparisons  i_comparisons\n",
       "size                            \n",
       "0            0.00            0.0\n",
       "1            0.00            0.0\n",
       "2            1.00            2.0\n",
       "3            2.72            5.0\n",
       "4            4.64            9.0\n",
       "...           ...            ...\n",
       "495       3808.24       122759.0\n",
       "496       3820.06       123255.0\n",
       "497       3831.26       123752.0\n",
       "498       3839.94       124250.0\n",
       "499       3844.96       124749.0\n",
       "\n",
       "[500 rows x 2 columns]"
      ]
     },
     "execution_count": 86,
     "metadata": {},
     "output_type": "execute_result"
    }
   ],
   "source": [
    "ran = df[df['input_type']=='random']\n",
    "ran = ran[['sort_type','size','comparisons','input_type']]\n",
    "\n",
    "m_ran = ran[ran['sort_type']=='merge']\n",
    "i_ran = ran[ran['sort_type']=='insertion']\n",
    "m_ran = m_ran[['size','comparisons']]\n",
    "m_ran.set_index('size',inplace=True)\n",
    "i_ran = i_ran[['size','comparisons']]\n",
    "i_ran.set_index('size',inplace=True)\n",
    "\n",
    "m_ran['i_comparisons'] = i_dsc.comparisons\n",
    "m_ran.tail(500)\n",
    "\n",
    "#comparisons is for merge comparisons. i for insertion"
   ]
  },
  {
   "cell_type": "code",
   "execution_count": 88,
   "metadata": {},
   "outputs": [
    {
     "name": "stdout",
     "output_type": "stream",
     "text": [
      "[0, 1]\n"
     ]
    }
   ],
   "source": [
    "#calculate the differences of the y-coords. Look for points where they meet (diff==0) or\n",
    "#where there is sign change\n",
    "\n",
    "diff = m_ran.comparisons - m_ran.i_comparisons\n",
    "r_intersect = []\n",
    "for i in range(len(m_ran)):\n",
    "    if i == 499:\n",
    "        break\n",
    "    if diff[i] == 0 or diff[i]*diff[i+1]<0:\n",
    "        r_intersect.append(i)\n",
    "print(r_intersect)\n"
   ]
  },
  {
   "cell_type": "code",
   "execution_count": 87,
   "metadata": {},
   "outputs": [
    {
     "data": {
      "text/plain": [
       "<matplotlib.axes._subplots.AxesSubplot at 0x1e233d7d588>"
      ]
     },
     "execution_count": 87,
     "metadata": {},
     "output_type": "execute_result"
    },
    {
     "data": {
      "image/png": "[encoded data removed]",
      "text/plain": [
       "<Figure size 936x432 with 2 Axes>"
      ]
     },
     "metadata": {
      "needs_background": "light"
     },
     "output_type": "display_data"
    }
   ],
   "source": [
    "fig, axes = plt.subplots(ncols = 2)\n",
    "\n",
    "ran = m_ran.head(5)\n",
    "ran.plot(ax=axes[0],figsize=(13,6))\n",
    "m_ran.plot(ax=axes[1],figsize=(13,6))"
   ]
  }
 ],
 "metadata": {
  "kernelspec": {
   "display_name": "Python 3",
   "language": "python",
   "name": "python3"
  },
  "language_info": {
   "codemirror_mode": {
    "name": "ipython",
    "version": 3
   },
   "file_extension": ".py",
   "mimetype": "text/x-python",
   "name": "python",
   "nbconvert_exporter": "python",
   "pygments_lexer": "ipython3",
   "version": "3.7.4"
  }
 },
 "nbformat": 4,
 "nbformat_minor": 2
}
